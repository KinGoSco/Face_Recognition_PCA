{
 "cells": [
  {
   "cell_type": "code",
   "execution_count": null,
   "metadata": {
    "execution": {
     "iopub.execute_input": "2023-09-04T09:14:23.863804Z",
     "iopub.status.busy": "2023-09-04T09:14:23.863463Z",
     "iopub.status.idle": "2023-09-04T09:14:23.907920Z",
     "shell.execute_reply": "2023-09-04T09:14:23.906499Z",
     "shell.execute_reply.started": "2023-09-04T09:14:23.863776Z"
    }
   },
   "outputs": [],
   "source": [
    "import numpy as np\n",
    "import os\n",
    "import matplotlib.pyplot as plt\n",
    "from PIL import Image"
   ]
  },
  {
   "cell_type": "code",
   "execution_count": null,
   "metadata": {
    "execution": {
     "iopub.execute_input": "2023-09-04T09:14:23.913166Z",
     "iopub.status.busy": "2023-09-04T09:14:23.911670Z",
     "iopub.status.idle": "2023-09-04T09:14:23.918075Z",
     "shell.execute_reply": "2023-09-04T09:14:23.916522Z",
     "shell.execute_reply.started": "2023-09-04T09:14:23.913077Z"
    }
   },
   "outputs": [],
   "source": [
    "## Image Folder Paths\n",
    "GALLERY = \"/kaggle/input/database-of-faces/Gallery/Gallery\"\n",
    "PROBE = \"/kaggle/input/database-of-faces/Probe/Probe\""
   ]
  },
  {
   "cell_type": "code",
   "execution_count": null,
   "metadata": {
    "execution": {
     "iopub.execute_input": "2023-09-04T09:14:23.921017Z",
     "iopub.status.busy": "2023-09-04T09:14:23.920437Z",
     "iopub.status.idle": "2023-09-04T09:14:25.097028Z",
     "shell.execute_reply": "2023-09-04T09:14:25.095573Z",
     "shell.execute_reply.started": "2023-09-04T09:14:23.920985Z"
    }
   },
   "outputs": [],
   "source": [
    "## Storing Images and corresponding labels\n",
    "images = list()\n",
    "labels = list()\n",
    "for folder in os.listdir(GALLERY):\n",
    "    for img in os.listdir(GALLERY + \"/\" + folder):\n",
    "        img = Image.open(GALLERY + \"/\" + folder + \"/\" + img)\n",
    "        labels.append(int(folder.split(\"s\")[1]))\n",
    "        images.append(np.array(img))"
   ]
  },
  {
   "cell_type": "code",
   "execution_count": null,
   "metadata": {
    "execution": {
     "iopub.execute_input": "2023-09-04T09:14:25.100389Z",
     "iopub.status.busy": "2023-09-04T09:14:25.100052Z",
     "iopub.status.idle": "2023-09-04T09:14:25.113972Z",
     "shell.execute_reply": "2023-09-04T09:14:25.112582Z",
     "shell.execute_reply.started": "2023-09-04T09:14:25.100364Z"
    }
   },
   "outputs": [],
   "source": [
    "# Resizing images in the form of a vector and subtracting mean from each\n",
    "shape = images[0].shape\n",
    "X = np.resize(images,(len(images), shape[0]*shape[1]))\n",
    "mean = np.mean(X, axis = 0)\n",
    "X_std = X - mean"
   ]
  },
  {
   "cell_type": "code",
   "execution_count": null,
   "metadata": {
    "execution": {
     "iopub.execute_input": "2023-09-04T09:14:25.116348Z",
     "iopub.status.busy": "2023-09-04T09:14:25.115880Z",
     "iopub.status.idle": "2023-09-04T09:14:25.127723Z",
     "shell.execute_reply": "2023-09-04T09:14:25.126828Z",
     "shell.execute_reply.started": "2023-09-04T09:14:25.116311Z"
    }
   },
   "outputs": [],
   "source": [
    "# m x d where m represents number of training samples and d represents all dimensions of the image\n",
    "X_std.shape"
   ]
  },
  {
   "cell_type": "code",
   "execution_count": null,
   "metadata": {
    "execution": {
     "iopub.execute_input": "2023-09-04T09:14:25.129990Z",
     "iopub.status.busy": "2023-09-04T09:14:25.129177Z",
     "iopub.status.idle": "2023-09-04T09:14:25.160005Z",
     "shell.execute_reply": "2023-09-04T09:14:25.158915Z",
     "shell.execute_reply.started": "2023-09-04T09:14:25.129964Z"
    }
   },
   "outputs": [],
   "source": [
    "# IMPORTANT, cov matrix here is of dimension m x m instead of the standard d x d\n",
    "cov_mat = X_std @ X_std.T"
   ]
  },
  {
   "cell_type": "code",
   "execution_count": null,
   "metadata": {
    "execution": {
     "iopub.execute_input": "2023-09-04T09:14:25.162032Z",
     "iopub.status.busy": "2023-09-04T09:14:25.161586Z",
     "iopub.status.idle": "2023-09-04T09:14:25.173445Z",
     "shell.execute_reply": "2023-09-04T09:14:25.172004Z",
     "shell.execute_reply.started": "2023-09-04T09:14:25.162005Z"
    }
   },
   "outputs": [],
   "source": [
    "# m x m\n",
    "cov_mat.shape"
   ]
  },
  {
   "cell_type": "code",
   "execution_count": null,
   "metadata": {
    "execution": {
     "iopub.execute_input": "2023-09-04T09:14:25.176124Z",
     "iopub.status.busy": "2023-09-04T09:14:25.175405Z",
     "iopub.status.idle": "2023-09-04T09:14:25.224062Z",
     "shell.execute_reply": "2023-09-04T09:14:25.223217Z",
     "shell.execute_reply.started": "2023-09-04T09:14:25.176084Z"
    }
   },
   "outputs": [],
   "source": [
    "# Eigendecomposition of the covariance matrix followed by sorting of the eigenvectors in decreasing order of the eigenvalues\n",
    "eigenvalues, eigenvectors = np.linalg.eig(cov_mat)\n",
    "idx = np.argsort(eigenvalues)[::-1]\n",
    "eigenvalues = eigenvalues[idx]\n",
    "eigenvectors = eigenvectors[:,idx]"
   ]
  },
  {
   "cell_type": "code",
   "execution_count": null,
   "metadata": {
    "execution": {
     "iopub.execute_input": "2023-09-04T09:14:25.226391Z",
     "iopub.status.busy": "2023-09-04T09:14:25.225754Z",
     "iopub.status.idle": "2023-09-04T09:14:25.252762Z",
     "shell.execute_reply": "2023-09-04T09:14:25.251848Z",
     "shell.execute_reply.started": "2023-09-04T09:14:25.226361Z"
    }
   },
   "outputs": [],
   "source": [
    "# Extracting the eigenvectors of the actual covariance matrix from the converted covariance matrix\n",
    "eigenvector_converted = X_std.T @ eigenvectors\n",
    "eigenvector_converted.shape"
   ]
  },
  {
   "cell_type": "code",
   "execution_count": null,
   "metadata": {
    "execution": {
     "iopub.execute_input": "2023-09-04T09:14:25.257759Z",
     "iopub.status.busy": "2023-09-04T09:14:25.257050Z",
     "iopub.status.idle": "2023-09-04T09:14:25.278638Z",
     "shell.execute_reply": "2023-09-04T09:14:25.277710Z",
     "shell.execute_reply.started": "2023-09-04T09:14:25.257729Z"
    }
   },
   "outputs": [],
   "source": [
    "# Normalizing the eigenvectors (making them unit norm)\n",
    "eigenfaces = eigenvector_converted.T/ np.sqrt((eigenvector_converted.T ** 2).sum(axis=1, keepdims=True))\n",
    "eigenfaces.shape"
   ]
  },
  {
   "cell_type": "code",
   "execution_count": null,
   "metadata": {
    "execution": {
     "iopub.execute_input": "2023-09-04T09:14:25.280930Z",
     "iopub.status.busy": "2023-09-04T09:14:25.280330Z",
     "iopub.status.idle": "2023-09-04T09:14:26.315491Z",
     "shell.execute_reply": "2023-09-04T09:14:26.313697Z",
     "shell.execute_reply.started": "2023-09-04T09:14:25.280900Z"
    }
   },
   "outputs": [],
   "source": [
    "# Displaying the Eigenface images corresponding to the top 6 Eigenvalues of the covariance matrix Σ.\n",
    "_, axs = plt.subplots(2, 3, figsize=(10, 10))\n",
    "axs = axs.flatten()\n",
    "for i, (img, ax) in enumerate(zip(eigenfaces, axs)):\n",
    "    ax.set_title(f\"Eigenvalue: {np.round(eigenvalues[i], 2)}\")\n",
    "    ax.imshow(img.reshape(shape[0], shape[1]), cmap=\"gray\")\n",
    "plt.show()"
   ]
  },
  {
   "cell_type": "code",
   "execution_count": null,
   "metadata": {
    "execution": {
     "iopub.execute_input": "2023-09-04T09:14:26.318962Z",
     "iopub.status.busy": "2023-09-04T09:14:26.318013Z",
     "iopub.status.idle": "2023-09-04T09:14:26.325224Z",
     "shell.execute_reply": "2023-09-04T09:14:26.324313Z",
     "shell.execute_reply.started": "2023-09-04T09:14:26.318926Z"
    }
   },
   "outputs": [],
   "source": [
    "# Last Eigenvalue is approximately 0\n",
    "eigenvalues[-1]"
   ]
  },
  {
   "cell_type": "code",
   "execution_count": null,
   "metadata": {
    "execution": {
     "iopub.execute_input": "2023-09-04T09:14:26.327285Z",
     "iopub.status.busy": "2023-09-04T09:14:26.326785Z",
     "iopub.status.idle": "2023-09-04T09:14:26.349990Z",
     "shell.execute_reply": "2023-09-04T09:14:26.348991Z",
     "shell.execute_reply.started": "2023-09-04T09:14:26.327257Z"
    }
   },
   "outputs": [],
   "source": [
    "# Calculate the total sum of eigenvalues, which represent the total variance in the data\n",
    "total = sum(eigenvalues)\n",
    "\n",
    "# Calculate the explained variance for each eigenvalue as a percentage of the total variance\n",
    "explained_variance = [(i / total) * 100 for i in eigenvalues]\n",
    "explained_variance = np.round(explained_variance, 2)\n",
    "\n",
    "# Calculate the cumulative explained variance by taking the cumulative sum of the explained variance values\n",
    "cum_explained_variance = np.cumsum(explained_variance)"
   ]
  },
  {
   "cell_type": "code",
   "execution_count": null,
   "metadata": {
    "execution": {
     "iopub.execute_input": "2023-09-04T09:14:26.351323Z",
     "iopub.status.busy": "2023-09-04T09:14:26.350989Z",
     "iopub.status.idle": "2023-09-04T09:14:26.372545Z",
     "shell.execute_reply": "2023-09-04T09:14:26.370622Z",
     "shell.execute_reply.started": "2023-09-04T09:14:26.351295Z"
    }
   },
   "outputs": [],
   "source": [
    "# Initialize an empty list 'x' to store the dimensions that satisfy the explained variance thresholds\n",
    "x = list()\n",
    "\n",
    "# Define the desired cumulative explained variance thresholds in 'y'\n",
    "y = [85, 95]\n",
    "\n",
    "for dim in range(200):\n",
    "    # Check if the cumulative explained variance for the current dimension\n",
    "    # is greater than or equal to the first threshold (y[0])\n",
    "    if cum_explained_variance[dim] >= y[0]:\n",
    "        x.append(dim+1)\n",
    "        break\n",
    "\n",
    "for dim in range(x[0]+1, 200):\n",
    "    # Check if the cumulative explained variance for the current dimension\n",
    "    # is greater than or equal to the second threshold (y[1])\n",
    "    if cum_explained_variance[dim] >= y[1]:\n",
    "        x.append(dim+1)\n",
    "        break"
   ]
  },
  {
   "cell_type": "code",
   "execution_count": null,
   "metadata": {
    "execution": {
     "iopub.execute_input": "2023-09-04T09:14:26.374732Z",
     "iopub.status.busy": "2023-09-04T09:14:26.373931Z",
     "iopub.status.idle": "2023-09-04T09:14:26.391377Z",
     "shell.execute_reply": "2023-09-04T09:14:26.389556Z",
     "shell.execute_reply.started": "2023-09-04T09:14:26.374705Z"
    }
   },
   "outputs": [],
   "source": [
    "# Number of dimensions accounting for 85% and 95% of the total variance of the original data in the reduced space\n",
    "x"
   ]
  },
  {
   "cell_type": "code",
   "execution_count": null,
   "metadata": {
    "execution": {
     "iopub.execute_input": "2023-09-04T09:14:26.395040Z",
     "iopub.status.busy": "2023-09-04T09:14:26.393635Z",
     "iopub.status.idle": "2023-09-04T09:14:26.596709Z",
     "shell.execute_reply": "2023-09-04T09:14:26.595170Z",
     "shell.execute_reply.started": "2023-09-04T09:14:26.394983Z"
    }
   },
   "outputs": [],
   "source": [
    "# A graph depicting the percentage of the total variance of the original data retained in the reduced space versus the number of dimensions.\n",
    "plt.plot(cum_explained_variance)\n",
    "plt.plot(x, y, \"o\")\n",
    "plt.xlabel(\"Number of Dimensions\")\n",
    "plt.ylabel(\"Cumulative Explained Variance\")\n",
    "plt.show()"
   ]
  },
  {
   "cell_type": "code",
   "execution_count": null,
   "metadata": {
    "execution": {
     "iopub.execute_input": "2023-09-04T09:14:26.600714Z",
     "iopub.status.busy": "2023-09-04T09:14:26.599884Z",
     "iopub.status.idle": "2023-09-04T09:14:26.812654Z",
     "shell.execute_reply": "2023-09-04T09:14:26.811340Z",
     "shell.execute_reply.started": "2023-09-04T09:14:26.600679Z"
    }
   },
   "outputs": [],
   "source": [
    "train_img = np.array(Image.open(GALLERY + \"/\" + \"s1/1.pgm\"))\n",
    "train_image_mean_centered = train_img.reshape(shape[0]*shape[1]) - mean\n",
    "plt.imshow(train_img, cmap = 'gray')\n",
    "plt.show()"
   ]
  },
  {
   "cell_type": "code",
   "execution_count": null,
   "metadata": {
    "execution": {
     "iopub.execute_input": "2023-09-04T09:14:26.814765Z",
     "iopub.status.busy": "2023-09-04T09:14:26.814344Z",
     "iopub.status.idle": "2023-09-04T09:14:27.982482Z",
     "shell.execute_reply": "2023-09-04T09:14:27.980837Z",
     "shell.execute_reply.started": "2023-09-04T09:14:26.814733Z"
    }
   },
   "outputs": [],
   "source": [
    "_, axs = plt.subplots(2, 3, figsize=(10, 10))\n",
    "axs = axs.flatten()\n",
    "# Define a list of indices 'count' indicating the number of eigenfaces to use for reconstruction\n",
    "count = [1, 4, 15, 150, 199, 200]\n",
    "print(\"Reconstruction errors: (MSE)\")\n",
    "for i, (img, ax) in enumerate(zip(eigenfaces, axs)):\n",
    "    # Calculate the reconstruction using the selected number of eigenfaces\n",
    "    E = eigenfaces[:count[i]].dot(train_image_mean_centered)\n",
    "    reconstruction = eigenfaces[:count[i]].T.dot(E) + mean\n",
    "    \n",
    "    # Calculate the difference between the original and reconstructed images\n",
    "    diff = train_image_mean_centered + mean - reconstruction\n",
    "    \n",
    "    # Calculate the Mean Squared Error (MSE) as the reconstruction error\n",
    "    error = np.dot(diff, diff)\n",
    "    print(str(count[i]) + \" eigenfaces: \" + str(error))\n",
    "    \n",
    "    # Display the reconstructed image in grayscale\n",
    "    ax.set_title(str(count[i]) + \" eigenfaces\")\n",
    "    ax.imshow(np.reshape(reconstruction, (shape[0], shape[1])), cmap='gray')\n",
    "plt.show()"
   ]
  },
  {
   "cell_type": "code",
   "execution_count": null,
   "metadata": {
    "execution": {
     "iopub.execute_input": "2023-09-04T09:14:27.985055Z",
     "iopub.status.busy": "2023-09-04T09:14:27.984436Z",
     "iopub.status.idle": "2023-09-04T09:14:28.181144Z",
     "shell.execute_reply": "2023-09-04T09:14:28.179538Z",
     "shell.execute_reply.started": "2023-09-04T09:14:27.985017Z"
    }
   },
   "outputs": [],
   "source": [
    "test_img = np.array(Image.open(PROBE + \"/\" + \"s1/6.pgm\"))\n",
    "test_image_mean_centered = test_img.reshape(shape[0]*shape[1]) - mean\n",
    "plt.imshow(test_img.reshape(shape[0], shape[1]), cmap = 'gray')\n",
    "plt.show()"
   ]
  },
  {
   "cell_type": "code",
   "execution_count": null,
   "metadata": {
    "execution": {
     "iopub.execute_input": "2023-09-04T09:14:28.183250Z",
     "iopub.status.busy": "2023-09-04T09:14:28.182310Z",
     "iopub.status.idle": "2023-09-04T09:14:29.332460Z",
     "shell.execute_reply": "2023-09-04T09:14:29.330583Z",
     "shell.execute_reply.started": "2023-09-04T09:14:28.183219Z"
    }
   },
   "outputs": [],
   "source": [
    "_, axs = plt.subplots(2, 3, figsize=(10, 10))\n",
    "axs = axs.flatten()\n",
    "# Define a list of indices 'count' indicating the number of eigenfaces to use for reconstruction\n",
    "count = [1, 4, 15, 150, 199, 200]\n",
    "print(\"Reconstruction errors: (MSE)\")\n",
    "for i, (img, ax) in enumerate(zip(eigenfaces, axs)):\n",
    "    # Calculate the reconstruction using the selected number of eigenfaces\n",
    "    E = eigenfaces[:count[i]].dot(test_image_mean_centered)\n",
    "    reconstruction = eigenfaces[:count[i]].T.dot(E) + mean\n",
    "    \n",
    "    # Calculate the difference between the original and reconstructed images\n",
    "    diff = test_image_mean_centered + mean - reconstruction\n",
    "    \n",
    "    # Calculate the Mean Squared Error (MSE) as the reconstruction error\n",
    "    error = np.dot(diff, diff)\n",
    "    print(str(count[i]) + \" eigenfaces: \" + str(error))\n",
    "    \n",
    "    # Display the reconstructed image in grayscale\n",
    "    ax.set_title(str(count[i])+\" eigenfaces\")\n",
    "    ax.imshow(np.reshape(reconstruction,(shape[0],shape[1])),cmap='gray')\n",
    "plt.show()"
   ]
  },
  {
   "cell_type": "code",
   "execution_count": null,
   "metadata": {
    "execution": {
     "iopub.execute_input": "2023-09-04T09:14:29.335407Z",
     "iopub.status.busy": "2023-09-04T09:14:29.334956Z",
     "iopub.status.idle": "2023-09-04T09:14:31.418546Z",
     "shell.execute_reply": "2023-09-04T09:14:31.416451Z",
     "shell.execute_reply.started": "2023-09-04T09:14:29.335368Z"
    }
   },
   "outputs": [],
   "source": [
    "errors = list()\n",
    "for i in range(200):\n",
    "    # Project the test image onto the first 'i' principal components\n",
    "    E = eigenfaces[:i].dot(test_image_mean_centered)\n",
    "    \n",
    "    # Reconstruct the test image using the selected number of dimensions\n",
    "    reconstruction = eigenfaces[:i].T.dot(E) + mean\n",
    "    \n",
    "    # Calculate the difference between the original test image and the reconstructed image\n",
    "    diff = test_image_mean_centered + mean - reconstruction\n",
    "    \n",
    "    # Calculate the Mean Squared Error (MSE) as the reconstruction error\n",
    "    error = np.dot(diff, diff)\n",
    "    errors.append(error)\n",
    "\n",
    "# Plot the MSE values against the number of dimensions used for reconstruction\n",
    "plt.plot(errors)\n",
    "plt.title(\"MSE vs Number of Dimensions\")\n",
    "plt.xlabel(\"Number of Dimensions\")\n",
    "plt.ylabel(\"Mean Squared Error\")\n",
    "plt.show()"
   ]
  },
  {
   "cell_type": "code",
   "execution_count": null,
   "metadata": {
    "execution": {
     "iopub.execute_input": "2023-09-04T09:14:31.421642Z",
     "iopub.status.busy": "2023-09-04T09:14:31.421222Z",
     "iopub.status.idle": "2023-09-04T09:14:35.469899Z",
     "shell.execute_reply": "2023-09-04T09:14:35.469012Z",
     "shell.execute_reply.started": "2023-09-04T09:14:31.421610Z"
    }
   },
   "outputs": [],
   "source": [
    "# Initialize empty lists to store the lower-dimensional representations (E) of test and train images\n",
    "testE = list()  # For test images\n",
    "trainE = list()  # For train images\n",
    "\n",
    "# Iterate through folders in the PROBE directory (presumably containing test images)\n",
    "for folder in os.listdir(PROBE):\n",
    "    # Iterate through image files within each folder\n",
    "    for img in os.listdir(PROBE + \"/\" + folder):\n",
    "        # Load and convert the image to a NumPy array\n",
    "        img = np.array(Image.open(PROBE + \"/\" + folder + \"/\" + img))\n",
    "        \n",
    "        # Compute the mean-centered image by subtracting the mean image\n",
    "        img_mean_centered = img.reshape(shape[0] * shape[1]) - mean\n",
    "        \n",
    "        # Project the mean-centered test image onto the first 199 principal components\n",
    "        testE.append(eigenfaces[:199].dot(img_mean_centered))\n",
    "\n",
    "# Iterate through folders in the GALLERY directory (presumably containing train images)\n",
    "for folder in os.listdir(GALLERY):\n",
    "    # Iterate through image files within each folder\n",
    "    for img in os.listdir(GALLERY + \"/\" + folder):\n",
    "        # Load and convert the image to a NumPy array\n",
    "        img = np.array(Image.open(GALLERY + \"/\" + folder + \"/\" + img))\n",
    "        \n",
    "        # Compute the mean-centered image by subtracting the mean image\n",
    "        img_mean_centered = img.reshape(shape[0] * shape[1]) - mean\n",
    "        \n",
    "        # Project the mean-centered train image onto the first 199 principal components\n",
    "        trainE.append(eigenfaces[:199].dot(img_mean_centered))\n"
   ]
  },
  {
   "cell_type": "code",
   "execution_count": null,
   "metadata": {
    "execution": {
     "iopub.execute_input": "2023-09-04T09:14:35.471811Z",
     "iopub.status.busy": "2023-09-04T09:14:35.471307Z",
     "iopub.status.idle": "2023-09-04T09:14:35.478470Z",
     "shell.execute_reply": "2023-09-04T09:14:35.477725Z",
     "shell.execute_reply.started": "2023-09-04T09:14:35.471781Z"
    }
   },
   "outputs": [],
   "source": [
    "def predictSingle(img, total, q = 25):\n",
    "    smallest_value =None\n",
    "    index = None \n",
    "    E = testE[total-1][:q]\n",
    "    for i, image in enumerate(images):\n",
    "        E_compare = trainE[i][:q]\n",
    "        diff = E-E_compare\n",
    "        eps = np.sqrt(np.dot(diff, diff))\n",
    "        if smallest_value==None:\n",
    "            smallest_value=eps\n",
    "            index = labels[i]\n",
    "        if smallest_value>eps:\n",
    "            smallest_value=eps\n",
    "            index=labels[i]\n",
    "    return index"
   ]
  },
  {
   "cell_type": "code",
   "execution_count": null,
   "metadata": {
    "execution": {
     "iopub.execute_input": "2023-09-04T09:14:35.480440Z",
     "iopub.status.busy": "2023-09-04T09:14:35.479862Z",
     "iopub.status.idle": "2023-09-04T09:14:35.514488Z",
     "shell.execute_reply": "2023-09-04T09:14:35.512367Z",
     "shell.execute_reply.started": "2023-09-04T09:14:35.480412Z"
    }
   },
   "outputs": [],
   "source": [
    "def predict(q = 25):\n",
    "    total = 0\n",
    "    correct = 0\n",
    "    for folder in os.listdir(PROBE):\n",
    "        for img in os.listdir(PROBE + \"/\" + folder):\n",
    "            img = np.array(Image.open(PROBE + \"/\" + folder + \"/\" + img))\n",
    "            total += 1\n",
    "            if(predictSingle(img, total, q) == int(folder.split(\"s\")[1])):\n",
    "                correct += 1\n",
    "    return correct/total"
   ]
  },
  {
   "cell_type": "code",
   "execution_count": null,
   "metadata": {
    "execution": {
     "iopub.execute_input": "2023-09-04T09:14:35.518320Z",
     "iopub.status.busy": "2023-09-04T09:14:35.517339Z",
     "iopub.status.idle": "2023-09-04T09:14:36.013877Z",
     "shell.execute_reply": "2023-09-04T09:14:36.012484Z",
     "shell.execute_reply.started": "2023-09-04T09:14:35.518272Z"
    }
   },
   "outputs": [],
   "source": [
    "partA = predict()\n",
    "print(\"Classification Accuracy: \", partA)"
   ]
  },
  {
   "cell_type": "code",
   "execution_count": null,
   "metadata": {
    "execution": {
     "iopub.execute_input": "2023-09-04T09:14:36.015641Z",
     "iopub.status.busy": "2023-09-04T09:14:36.015301Z",
     "iopub.status.idle": "2023-09-04T09:16:22.550528Z",
     "shell.execute_reply": "2023-09-04T09:16:22.548555Z",
     "shell.execute_reply.started": "2023-09-04T09:14:36.015614Z"
    }
   },
   "outputs": [],
   "source": [
    "accs = list()\n",
    "for q in range(1, 200):\n",
    "    accs.append(predict(q))"
   ]
  },
  {
   "cell_type": "code",
   "execution_count": null,
   "metadata": {
    "execution": {
     "iopub.execute_input": "2023-09-04T09:16:22.552850Z",
     "iopub.status.busy": "2023-09-04T09:16:22.552444Z",
     "iopub.status.idle": "2023-09-04T09:16:22.790529Z",
     "shell.execute_reply": "2023-09-04T09:16:22.788587Z",
     "shell.execute_reply.started": "2023-09-04T09:16:22.552817Z"
    }
   },
   "outputs": [],
   "source": [
    "plt.plot(accs)\n",
    "plt.title(\"Accuracies vs Number of Dimensions\")\n",
    "plt.xlabel(\"Number of Dimensions\")\n",
    "plt.ylabel(\"Recognition Accuracies\")\n",
    "plt.show()"
   ]
  }
 ],
 "metadata": {
  "kernelspec": {
   "display_name": "Python 3 (ipykernel)",
   "language": "python",
   "name": "python3"
  },
  "language_info": {
   "codemirror_mode": {
    "name": "ipython",
    "version": 3
   },
   "file_extension": ".py",
   "mimetype": "text/x-python",
   "name": "python",
   "nbconvert_exporter": "python",
   "pygments_lexer": "ipython3",
   "version": "3.9.13"
  },
  "vscode": {
   "interpreter": {
    "hash": "916dbcbb3f70747c44a77c7bcd40155683ae19c65e1c03b4aa3499c5328201f1"
   }
  }
 },
 "nbformat": 4,
 "nbformat_minor": 4
}
